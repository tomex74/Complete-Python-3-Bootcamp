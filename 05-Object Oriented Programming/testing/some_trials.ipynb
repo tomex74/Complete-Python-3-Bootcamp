{
 "metadata": {
  "language_info": {
   "codemirror_mode": {
    "name": "ipython",
    "version": 3
   },
   "file_extension": ".py",
   "mimetype": "text/x-python",
   "name": "python",
   "nbconvert_exporter": "python",
   "pygments_lexer": "ipython3",
   "version": "3.8.1-final"
  },
  "orig_nbformat": 2,
  "kernelspec": {
   "name": "Python 3.8.1 64-bit ('PyUdemy': conda)",
   "display_name": "Python 3.8.1 64-bit ('PyUdemy': conda)",
   "metadata": {
    "interpreter": {
     "hash": "53c9f3a4159f48d83d907bef19770d20ea5efe7306b7b4f4b1cab0d144297c55"
    }
   }
  }
 },
 "nbformat": 4,
 "nbformat_minor": 2,
 "cells": [
  {
   "cell_type": "code",
   "execution_count": 3,
   "metadata": {},
   "outputs": [],
   "source": [
    "class Dog():\n",
    "    '''\n",
    "    This is Class Dog\n",
    "    '''\n",
    "    def __init__(self, breed, name, spots= False):\n",
    "        self.breed = breed\n",
    "        self.name = Name\n",
    "        self.name = spots\n",
    "\n"
   ]
  },
  {
   "cell_type": "code",
   "execution_count": null,
   "metadata": {},
   "outputs": [],
   "source": [
    "my_dog =Dog()"
   ]
  },
  {
   "cell_type": "code",
   "execution_count": 2,
   "metadata": {},
   "outputs": [],
   "source": [
    "zero = 0\n",
    "one = 1\n",
    "two = 2"
   ]
  },
  {
   "cell_type": "code",
   "execution_count": 3,
   "metadata": {},
   "outputs": [],
   "source": [
    "if zero:\n",
    "    print('True')"
   ]
  },
  {
   "cell_type": "code",
   "execution_count": 4,
   "metadata": {},
   "outputs": [
    {
     "output_type": "stream",
     "name": "stdout",
     "text": [
      "True\n"
     ]
    }
   ],
   "source": [
    "if one:\n",
    "    print('True')"
   ]
  },
  {
   "cell_type": "code",
   "execution_count": null,
   "metadata": {},
   "outputs": [],
   "source": []
  }
 ]
}