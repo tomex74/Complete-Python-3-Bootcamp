{
 "cells": [
  {
   "cell_type": "code",
   "execution_count": 1,
   "metadata": {},
   "outputs": [
    {
     "name": "stdout",
     "output_type": "stream",
     "text": [
      "Die aktuelle Nummer ist 0 !\n",
      "Die aktuelle Nummer ist 1 !\n",
      "Die aktuelle Nummer ist 2 !\n",
      "Die aktuelle Nummer ist 3 !\n",
      "Die aktuelle Nummer ist 4 !\n",
      "Die aktuelle Nummer ist 5 !\n",
      "Die aktuelle Nummer ist 6 !\n",
      "Die aktuelle Nummer ist 7 !\n",
      "Die aktuelle Nummer ist 8 !\n",
      "Die aktuelle Nummer ist 9 !\n",
      "Die aktuelle Nummer ist 10 !\n",
      "Die aktuelle Nummer ist 11 !\n",
      "Die aktuelle Nummer ist 12 !\n",
      "Die aktuelle Nummer ist 13 !\n",
      "Die aktuelle Nummer ist 14 !\n",
      "Die aktuelle Nummer ist 15 !\n",
      "Die aktuelle Nummer ist 16 !\n",
      "Die aktuelle Nummer ist 17 !\n",
      "Die aktuelle Nummer ist 18 !\n",
      "Die aktuelle Nummer ist 19 !\n",
      "Die aktuelle Nummer ist 20 !\n",
      "Die aktuelle Nummer ist 21 !\n",
      "Die aktuelle Nummer ist 22 !\n",
      "Die aktuelle Nummer ist 23 !\n",
      "Die aktuelle Nummer ist 24 !\n",
      "Die aktuelle Nummer ist 25 !\n"
     ]
    }
   ],
   "source": [
    "x = 0\n",
    "y = 25\n",
    "\n",
    "while x <= y:\n",
    "    print(f'Die aktuelle Nummer ist {x} !')\n",
    "    x += 1"
   ]
  },
  {
   "cell_type": "code",
   "execution_count": 11,
   "metadata": {},
   "outputs": [
    {
     "data": {
      "text/plain": [
       "False"
      ]
     },
     "execution_count": 11,
     "metadata": {},
     "output_type": "execute_result"
    }
   ],
   "source": [
    "d = {'name': 'Thomas', 'birthdate': '15/01/1974'}\n",
    "\n",
    "'Thomas' in d"
   ]
  },
  {
   "cell_type": "code",
   "execution_count": null,
   "metadata": {},
   "outputs": [],
   "source": []
  }
 ],
 "metadata": {
  "kernelspec": {
   "display_name": "Python 3",
   "language": "python",
   "name": "python3"
  },
  "language_info": {
   "codemirror_mode": {
    "name": "ipython",
    "version": 3
   },
   "file_extension": ".py",
   "mimetype": "text/x-python",
   "name": "python",
   "nbconvert_exporter": "python",
   "pygments_lexer": "ipython3",
   "version": "3.7.6"
  }
 },
 "nbformat": 4,
 "nbformat_minor": 4
}
